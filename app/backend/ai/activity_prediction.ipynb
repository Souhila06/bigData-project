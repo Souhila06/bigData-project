{
 "cells": [
  {
   "cell_type": "code",
   "execution_count": 10,
   "metadata": {},
   "outputs": [],
   "source": [
    "import joblib\n",
    "\n",
    "model = joblib.load('./svm_model_last.joblib')"
   ]
  },
  {
   "cell_type": "code",
   "execution_count": 11,
   "metadata": {},
   "outputs": [
    {
     "name": "stdout",
     "output_type": "stream",
     "text": [
      "   heart_rate  IMU_hand_1  IMU_hand_2  IMU_hand_3  IMU_hand_4  IMU_hand_5  \\\n",
      "0       128.0     30.8125    -7.58563    -16.1349     3.56022    -7.81402   \n",
      "\n",
      "   IMU_hand_6  IMU_hand_7  IMU_hand_8  IMU_hand_9  ...  IMU_ankle_8  \\\n",
      "0    -14.8299     3.12991    -1.18514   -0.179941  ...    -0.687272   \n",
      "\n",
      "   IMU_ankle_9  IMU_ankle_10  IMU_ankle_11  IMU_ankle_12  IMU_ankle_13  \\\n",
      "0     0.903589       3.94736      -50.1097        5.1203        24.061   \n",
      "\n",
      "   IMU_ankle_14  IMU_ankle_15  IMU_ankle_16  IMU_ankle_17  \n",
      "0      0.268369      0.434732      0.757397      0.406615  \n",
      "\n",
      "[1 rows x 52 columns]\n"
     ]
    }
   ],
   "source": [
    "import pandas as pd\n",
    "sample = pd.read_csv('./sample.csv')\n",
    "print(sample)"
   ]
  },
  {
   "cell_type": "code",
   "execution_count": 12,
   "metadata": {},
   "outputs": [
    {
     "name": "stdout",
     "output_type": "stream",
     "text": [
      "[7]\n"
     ]
    }
   ],
   "source": [
    "print(model.predict(sample))"
   ]
  }
 ],
 "metadata": {
  "kernelspec": {
   "display_name": "Python 3",
   "language": "python",
   "name": "python3"
  },
  "language_info": {
   "codemirror_mode": {
    "name": "ipython",
    "version": 3
   },
   "file_extension": ".py",
   "mimetype": "text/x-python",
   "name": "python",
   "nbconvert_exporter": "python",
   "pygments_lexer": "ipython3",
   "version": "3.9.6"
  }
 },
 "nbformat": 4,
 "nbformat_minor": 2
}
